{
 "cells": [
  {
   "cell_type": "code",
   "execution_count": 1,
   "metadata": {
    "collapsed": false
   },
   "outputs": [
    {
     "name": "stdout",
     "output_type": "stream",
     "text": [
      "initial velocity = 30 m/s\n",
      "c = 0.001225 Ns^2/m^3\n",
      "mass = 0.145 kg\n",
      "theta = 50.0 degrees\n",
      "g = 9.80665 m/s^2\n"
     ]
    },
    {
     "data": {
      "image/png": "[encoded data removed]",
      "text/plain": [
       "<matplotlib.figure.Figure at 0x1e25e6919e8>"
      ]
     },
     "metadata": {},
     "output_type": "display_data"
    },
    {
     "name": "stdout",
     "output_type": "stream",
     "text": [
      "dt = 0.2  sec\n",
      "x(0), y(0) = 0.0 ,  0.0  m\n",
      "vx(0), vy(0) = 19.28 ,  22.98  m/s\n",
      "Quadratic Range - Euler = 60.76  m\n",
      "Quadratic Range - Euler-Cromer = 58.83  m\n",
      "Vacuum Range = 92.56  m\n"
     ]
    }
   ],
   "source": [
    "%matplotlib inline\n",
    "import numpy as np\n",
    "import matplotlib.pyplot as plt\n",
    "# Set constants\n",
    "c = .001225\n",
    "m = .145\n",
    "g = 9.80665\n",
    "# Set initial velocity and launch angle\n",
    "th = np.pi*.27777630527\n",
    "v0 = 30\n",
    "# Set initial and final time and number of steps\n",
    "t0 = 0\n",
    "tf = 10\n",
    "steps = 50\n",
    "# Calculate time step size, dt\n",
    "dt= (tf-t0)/steps\n",
    "\n",
    "t = np.arange(t0, tf, steps)\n",
    "# Make some arrays to hold calculated values if ends in e its euler if c its cromer\n",
    "vxe = np.zeros(steps+1)\n",
    "vye = np.zeros(steps+1)\n",
    "xe = np.zeros(steps+1)\n",
    "ye = np.zeros(steps+1)\n",
    "vxc = np.zeros(steps+1)\n",
    "vyc = np.zeros(steps+1)\n",
    "xc = np.zeros(steps+1)\n",
    "yc =np.zeros(steps+1)\n",
    "\n",
    "xa = np.zeros(steps+1)\n",
    "ya = np.zeros(steps+1)\n",
    "\n",
    "# Make a line for ground level\n",
    "lx = np.arange(1,1000,10)\n",
    "ly = np.zeros(100)\n",
    "\n",
    "# Set initial component velocities to the proper value\n",
    "vxe[0] = v0*np.cos(th)\n",
    "vye[0] = v0*np.sin(th)\n",
    "vxc[0] = v0*np.cos(th)\n",
    "vyc[0] = v0*np.sin(th)\n",
    "# for loop to iterate through the calcs\n",
    "\n",
    "## Euler\n",
    "for i in range(0, steps):\n",
    "    vxe[i+1] = (-c/m)*(vxe[i]**2 + vye[i]**2)**(1/2)*vxe[i]*dt + vxe[i]#quadratic\n",
    "    xe[i+1] = vxe[i]*dt + xe[i]#linear\n",
    "    vye[i+1] = -g*dt + (-c/m)*(vxe[i]**2 + vye[i]**2)**(1/2)*vye[i]*dt + vye[i]#quadratic\n",
    "    ye[i+1] = vye[i]*dt + ye[i]#linear\n",
    "    \n",
    "## Euler-Cromer\n",
    "## Take Euler, change x position calc to use velocity current step rather than last step!!!\n",
    "## This method follows slope more accurately and is useful when slope is sinusiodal \n",
    "for i in range(0, steps):\n",
    "    vxc[i+1] = (-c/m)*(vxc[i]**2 + vyc[i]**2)**(1/2)*vxc[i]*dt + vxc[i]#quadratic\n",
    "    xc[i+1] = vxc[i+1]*dt + xc[i]##this is where you see the difference linear\n",
    "    vyc[i+1] = -g*dt + (-c/m)*(vxc[i]**2 + vyc[i]**2)**(1/2)*vyc[i]*dt + vyc[i]#quadratic\n",
    "    yc[i+1] = vyc[i]*dt + yc[i]#linear\n",
    "    \n",
    "## Vacuum - use analytical solution\n",
    "for i in range(0, steps+1):\n",
    "    xa[i] = v0*i*dt*np.cos(th)\n",
    "    ya[i] = v0*i*dt*np.sin(th) - 0.5*g*(i*dt)**2\n",
    "    \n",
    "    \n",
    "\n",
    "p, = np.where(ye<0)\n",
    "q, = np.where(yc<0)\n",
    "r, = np.where(ya<0)\n",
    "\n",
    "Rq = xe[p]\n",
    "Rc = xc[q]\n",
    "Ra = xa[r]\n",
    "# Print input variables\n",
    "print('initial velocity =', v0, 'm/s')\n",
    "print('c =', c, 'Ns^2/m^3')\n",
    "print('mass =', m, 'kg')\n",
    "print('theta =', round(th*57.2958, 2), 'degrees')\n",
    "print('g =', g, 'm/s^2')\n",
    "\n",
    "# Plot Labels\n",
    "plt.plot(lx,ly, color='0.55')\n",
    "plt.plot( xe, ye, 'r-', label='Euler')\n",
    "plt.plot( xc, yc, 'b-', label='Euler-Cromer')\n",
    "plt.plot( xa, ya, 'g--', label='Vacuum')\n",
    "plt.axis([0, 160, -160, 60])\n",
    "plt.title('Baseball Trajectory')\n",
    "plt.legend()\n",
    "plt.show()\n",
    "\n",
    "# Print output stuff\n",
    "print('dt =', dt, ' sec')\n",
    "print('x(0), y(0) =', xe[0],', ', ye[0], ' m')\n",
    "print('vx(0), vy(0) =', round(vxe[0], 2),', ', round(vye[0], 2), ' m/s')\n",
    "\n",
    "# Ranges\n",
    "print('Quadratic Range - Euler =', round(Rq[0], 2), ' m')\n",
    "print('Quadratic Range - Euler-Cromer =', round(Rc[0], 2), ' m')\n",
    "print('Vacuum Range =', round(Ra[0], 2), ' m')"
   ]
  },
  {
   "cell_type": "code",
   "execution_count": null,
   "metadata": {
    "collapsed": true
   },
   "outputs": [],
   "source": []
  },
  {
   "cell_type": "code",
   "execution_count": null,
   "metadata": {
    "collapsed": true
   },
   "outputs": [],
   "source": []
  }
 ],
 "metadata": {
  "kernelspec": {
   "display_name": "Python 3",
   "language": "python",
   "name": "python3"
  },
  "language_info": {
   "codemirror_mode": {
    "name": "ipython",
    "version": 3
   },
   "file_extension": ".py",
   "mimetype": "text/x-python",
   "name": "python",
   "nbconvert_exporter": "python",
   "pygments_lexer": "ipython3",
   "version": "3.6.0"
  }
 },
 "nbformat": 4,
 "nbformat_minor": 2
}
